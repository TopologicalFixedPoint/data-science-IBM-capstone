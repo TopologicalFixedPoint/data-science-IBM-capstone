{
    "nbformat_minor": 1, 
    "cells": [
        {
            "source": "<h1>Data Science Capstone</h1>\n\n<i>Ronald R. Rodriguez</i>\n\nThis project serves as the capstone project for the capstone course given by IBM. This project serves to use the skills learned studying for the IBM Data Science Ceritification in a case study.\n\n", 
            "cell_type": "markdown", 
            "metadata": {
                "collapsed": true
            }
        }, 
        {
            "source": "from geopy.geocoders import Nominatim # module to convert an address into latitude and longitude values\nimport requests # library to handle requests\nimport pandas as pd # library for data analsysis\nimport numpy as np # library to handle data in a vectorized manner\nimport random # library for random number generation\nimport io\n# libraries for displaying images\nfrom IPython.display import Image \nfrom IPython.core.display import HTML \n    \n# tranforming json file into a pandas dataframe library\nfrom pandas.io.json import json_normalize\n\nprint('Libraries imported.')", 
            "cell_type": "code", 
            "metadata": {}, 
            "outputs": [
                {
                    "output_type": "stream", 
                    "name": "stdout", 
                    "text": "Libraries imported.\n"
                }
            ], 
            "execution_count": 13
        }, 
        {
            "source": "CLIENT_ID = 'Secret' # your Foursquare ID\nCLIENT_SECRET = 'Secret' # your Foursquare Secret\nVERSION = '20180604'\nLIMIT = 30\nprint('Your credentails:')\nprint('CLIENT_ID: ' + CLIENT_ID)\nprint('CLIENT_SECRET:' + CLIENT_SECRET)", 
            "cell_type": "code", 
            "metadata": {}, 
            "outputs": [
                {
                    "output_type": "stream", 
                    "name": "stdout", 
                    "text": "Your credentails:\nCLIENT_ID: Secret\nCLIENT_SECRET:Secret\n"
                }
            ], 
            "execution_count": 4
        }, 
        {
            "source": "Here is an example of NYC station longitude and latitudes", 
            "cell_type": "markdown", 
            "metadata": {}
        }, 
        {
            "source": "station_csv = requests.Session().get('http://web.mta.info/developers/data/nyct/subway/Stations.csv').content.decode('UTF-8')\nstation_data = pd.read_csv(io.StringIO(station_csv))\nstation_loc = station_data[[\"Stop Name\",\"Borough\",\"GTFS Latitude\",\"GTFS Longitude\"]]\nprint(station_loc.head())\nprint('new york station data collected')", 
            "cell_type": "code", 
            "metadata": {}, 
            "outputs": [
                {
                    "output_type": "stream", 
                    "name": "stdout", 
                    "text": "                Stop Name Borough  GTFS Latitude  GTFS Longitude\n0  Astoria - Ditmars Blvd       Q      40.775036      -73.912034\n1            Astoria Blvd       Q      40.770258      -73.917843\n2                   30 Av       Q      40.766779      -73.921479\n3                Broadway       Q      40.761820      -73.925508\n4                   36 Av       Q      40.756804      -73.929575\nnew york station data collected\n"
                }
            ], 
            "execution_count": 67
        }, 
        {
            "source": "Here is an example of SF Bart station latitude/longitude and names", 
            "cell_type": "markdown", 
            "metadata": {}
        }, 
        {
            "source": "station_json = requests.get('http://api.bart.gov/api/stn.aspx?cmd=stns&key=MW9S-E7SL-26DU-VV8V&json=y').json()\nstation_data = pd.DataFrame.from_dict(station_json['root']['stations']['station'])\nstation_loc = station_data[[\"name\",\"city\",\"gtfs_latitude\",\"gtfs_longitude\"]]\nprint(station_loc.head())\nprint('San Fran station data collected')", 
            "cell_type": "code", 
            "metadata": {}, 
            "outputs": [
                {
                    "output_type": "stream", 
                    "name": "stdout", 
                    "text": "                           name           city gtfs_latitude gtfs_longitude\n0  12th St. Oakland City Center        Oakland     37.803768    -122.271450\n1              16th St. Mission  San Francisco     37.765062    -122.419694\n2              19th St. Oakland        Oakland     37.808350    -122.268602\n3              24th St. Mission  San Francisco     37.752470    -122.418143\n4                       Antioch        Antioch     37.995388    -121.780420\nSan Fran station data collected\n"
                }
            ], 
            "execution_count": 66
        }, 
        {
            "source": "Here is an example of Austin Station latitude/longitude and names", 
            "cell_type": "markdown", 
            "metadata": {}
        }, 
        {
            "source": "station_csv = requests.Session().get('https://transitfeeds-data.s3-us-west-1.amazonaws.com/public/feeds/capital-metro/24/20181218/original/stops.txt').content.decode('UTF-8')\nstation_data = pd.read_csv(io.StringIO(station_csv))\nstation_loc = station_data[[\"stop_name\",\"stop_lat\",\"stop_lon\"]]\nprint(station_loc.head())\nprint('Austin station data collected')", 
            "cell_type": "code", 
            "metadata": {}, 
            "outputs": [
                {
                    "output_type": "stream", 
                    "name": "stdout", 
                    "text": "               stop_name   stop_lat   stop_lon\n0        Rio Grande/15th  30.278966 -97.746339\n1  8740 Lamar/Payton Gin  30.356809 -97.701066\n2   8630 Lamar/Fairfield  30.355296 -97.703128\n3         Lamar/Thurmond  30.353139 -97.706082\n4  8320 Lamar/Meadowlark  30.352256 -97.707295\nAustin station data collected\n"
                }
            ], 
            "execution_count": 70
        }, 
        {
            "source": "With the station data it can be combined get a diverse list of stations \nto use so that there is less bias coming from location.\n\nThen using the foursquare app get the nearest venues from those locations. Then classify the station by the most prevalent category then use ml to analyze whether there is a corelation between station location and category. Here is an example using the foursquare api using the first station from NYC, Astoria-Ditmars Blvd.", 
            "cell_type": "markdown", 
            "metadata": {}
        }, 
        {
            "source": "url = 'https://api.foursquare.com/v2/venues/search?client_id={}&client_secret={}&ll={},{}&v={}&radius={}&limit={}'.format(CLIENT_ID, CLIENT_SECRET, 40.775036, -73.912034, 20180604, 500, 35)\nvenue_json = requests.get(url).json()\n#print(venue_json[\"response\"][\"venues\"])\nvenue_data = pd.DataFrame.from_dict(venue_json[\"response\"][\"venues\"])\nprint(venue_data[\"categories\"])", 
            "cell_type": "code", 
            "metadata": {}, 
            "outputs": [
                {
                    "output_type": "stream", 
                    "name": "stdout", 
                    "text": "0     [{'name': 'Metro Station', 'pluralName': 'Metr...\n1     [{'name': 'Deli / Bodega', 'pluralName': 'Deli...\n2     [{'name': 'Middle Eastern Restaurant', 'plural...\n3     [{'name': 'Supermarket', 'pluralName': 'Superm...\n4     [{'name': 'Miscellaneous Shop', 'pluralName': ...\n5     [{'name': 'Pub', 'pluralName': 'Pubs', 'shortN...\n6     [{'name': 'Bagel Shop', 'pluralName': 'Bagel S...\n7     [{'name': 'Bookstore', 'pluralName': 'Bookstor...\n8     [{'name': 'General Entertainment', 'pluralName...\n9     [{'name': 'Turkish Restaurant', 'pluralName': ...\n10    [{'name': 'Bike Rental / Bike Share', 'pluralN...\n11    [{'name': 'Fried Chicken Joint', 'pluralName':...\n12    [{'name': 'Convenience Store', 'pluralName': '...\n13    [{'name': 'Diner', 'pluralName': 'Diners', 'sh...\n14    [{'name': 'Yoga Studio', 'pluralName': 'Yoga S...\n15    [{'name': 'Fast Food Restaurant', 'pluralName'...\n16    [{'name': 'Shoe Store', 'pluralName': 'Shoe St...\n17    [{'name': 'Bank', 'pluralName': 'Banks', 'shor...\n18    [{'name': 'Pizza Place', 'pluralName': 'Pizza ...\n19    [{'name': 'Colombian Restaurant', 'pluralName'...\n20    [{'name': 'Smoke Shop', 'pluralName': 'Smoke S...\n21    [{'name': 'Bakery', 'pluralName': 'Bakeries', ...\n22    [{'name': 'Eye Doctor', 'pluralName': 'Eye Doc...\n23    [{'name': 'Fruit & Vegetable Store', 'pluralNa...\n24    [{'name': 'Gym', 'pluralName': 'Gyms', 'shortN...\n25    [{'name': 'Health & Beauty Service', 'pluralNa...\n26    [{'name': 'Deli / Bodega', 'pluralName': 'Deli...\n27    [{'name': 'Post Office', 'pluralName': 'Post O...\n28    [{'name': 'Sports Bar', 'pluralName': 'Sports ...\n29    [{'name': 'Convenience Store', 'pluralName': '...\n30    [{'name': 'Mexican Restaurant', 'pluralName': ...\n31    [{'name': 'Pharmacy', 'pluralName': 'Pharmacie...\n32    [{'name': 'Food Truck', 'pluralName': 'Food Tr...\n33    [{'name': 'Indian Restaurant', 'pluralName': '...\n34    [{'name': 'Yoga Studio', 'pluralName': 'Yoga S...\nName: categories, dtype: object\n"
                }
            ], 
            "execution_count": 92
        }, 
        {
            "source": "For this example 'Yoga Studio' appears twice so this as test data would be labeled as 'Yoga Studio'.", 
            "cell_type": "markdown", 
            "metadata": {}
        }
    ], 
    "metadata": {
        "kernelspec": {
            "display_name": "Python 3.5 with Spark", 
            "name": "python3", 
            "language": "python3"
        }, 
        "language_info": {
            "mimetype": "text/x-python", 
            "nbconvert_exporter": "python", 
            "version": "3.5.4", 
            "name": "python", 
            "pygments_lexer": "ipython3", 
            "file_extension": ".py", 
            "codemirror_mode": {
                "version": 3, 
                "name": "ipython"
            }
        }
    }, 
    "nbformat": 4
}
